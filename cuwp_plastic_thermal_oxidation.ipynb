{
  "nbformat": 4,
  "nbformat_minor": 0,
  "metadata": {
    "kernelspec": {
      "display_name": "Python 3",
      "language": "python",
      "name": "python3"
    },
    "language_info": {
      "codemirror_mode": {
        "name": "ipython",
        "version": 3
      },
      "file_extension": ".py",
      "mimetype": "text/x-python",
      "name": "python",
      "nbconvert_exporter": "python",
      "pygments_lexer": "ipython3",
      "version": "3.7.4"
    },
    "nteract": {
      "version": "0.27.0"
    },
    "colab": {
      "name": "cuwp plastic thermal oxidation.ipynb",
      "provenance": [],
      "collapsed_sections": []
    }
  },
  "cells": [
    {
      "cell_type": "markdown",
      "metadata": {
        "id": "EjVpEFAw_0ck"
      },
      "source": [
        "# Plastic Thermal Oxidation Example\n",
        "This page runs a process model for the thermal oxidation of plastics using Biosteam. \n",
        "\n",
        "Click on the menu Runtime-> Run All to run the complete analysis or press shift+enter on each cell."
      ]
    },
    {
      "cell_type": "code",
      "metadata": {
        "collapsed": true,
        "cellView": "form",
        "id": "wAF3ZZMZ209p"
      },
      "source": [
        "#@title\n",
        "!pip install biosteam &> /dev/null"
      ],
      "execution_count": 34,
      "outputs": []
    },
    {
      "cell_type": "code",
      "metadata": {
        "collapsed": true,
        "cellView": "form",
        "id": "EhUYLS4R4nwb"
      },
      "source": [
        "#@title\n",
        "!pip install llvmlite --upgrade &> /dev/null"
      ],
      "execution_count": 35,
      "outputs": []
    },
    {
      "cell_type": "code",
      "metadata": {
        "execution": {
          "iopub.execute_input": "2020-12-29T21:39:34.489Z",
          "iopub.status.busy": "2020-12-29T21:39:34.480Z",
          "iopub.status.idle": "2020-12-29T21:39:35.843Z",
          "shell.execute_reply": "2020-12-29T21:39:35.928Z"
        },
        "id": "o3hed9Yt2wCz"
      },
      "source": [
        "import biosteam as bst\n",
        "from biosteam import units\n",
        "from chemicals.identifiers import CAS_from_any, search_chemical"
      ],
      "execution_count": 36,
      "outputs": []
    },
    {
      "cell_type": "code",
      "metadata": {
        "cellView": "form",
        "id": "C8yB2gT_5Ds3"
      },
      "source": [
        "#@title\n",
        "#@Pyrolysis\n",
        "\n",
        "class PlasticTOD(bst.Unit):\n",
        "    _N_ins = 1\n",
        "    _N_outs = 1\n",
        "    _N_heat_utilities = 1\n",
        "    _BM = {'Heaters':1}\n",
        "    _units = {'Area', 'm^2'}\n",
        "    \n",
        "    def __init__(self, ID='', ins=None, outs=(), yields=None, *args, **kwargs):\n",
        "        bst.Unit.__init__(self, ID, ins, outs, bst.settings.get_thermo())\n",
        "        self._multistream = bst.MultiStream(None, thermo=self.thermo)\n",
        "        self._multistream.T = self.ins[0].T\n",
        "        self.yields = yields\n",
        "        \n",
        "    def _setup(self):\n",
        "        vap = self.outs[0]\n",
        "        vap.phase = 'g'\n",
        "        \n",
        "    def _run(self):\n",
        "        feed = self.ins[0]\n",
        "        vap = self.outs[0]\n",
        "        \n",
        "        z_mass_biooil =  self.yields\n",
        "        \n",
        "        ms = self._multistream\n",
        "        ms.imass['g'] = feed.F_mass*z_mass_biooil\n",
        "        vap.mass[:] = feed.F_mass*z_mass_biooil\n",
        "        vap.T = feed.T\n",
        "        vap.P = feed.P\n",
        "        ms.empty()\n",
        "\n",
        "\n",
        "    def _design(self):\n",
        "        # Calculate heat utility requirement (please read docs for HeatUtility objects)\n",
        "        T_operation = self._multistream.T\n",
        "        duty = self.H_out - self.H_in\n",
        "        if duty < 0:\n",
        "            raise RuntimeError(f'{repr(self)} is cooling.')\n",
        "        hu = self.heat_utilities[0]\n",
        "        hu(duty, T_operation)\n",
        "\n",
        "        # Temperature of utility at entrance\n",
        "        # T_utility = hu.inlet_utility_stream.T\n",
        "        T_utility = 298.15\n",
        "\n",
        "        # Temeperature gradient\n",
        "        dT = T_utility - T_operation\n",
        "\n",
        "        # Heat transfer coefficient kJ/(hr*m2*K)\n",
        "        U = 8176.699\n",
        "\n",
        "        print(duty, U, dT)\n",
        "        # Area requirement (m^2)\n",
        "        # A = duty/(U*dT)\n",
        "        A = 1\n",
        "\n",
        "        # Maximum area per unit\n",
        "        A_max = 743.224\n",
        "\n",
        "        # Number of units\n",
        "        N = max([int(A/A_max),1])\n",
        "\n",
        "        # Design requirements are stored here\n",
        "        self.design_results['Area'] = A/N\n",
        "        self.design_results['N'] = N\n",
        "\n",
        "    def _cost(self):\n",
        "        A = self.design_results['Area']\n",
        "        N = self.design_results['N']\n",
        "\n",
        "        # Long-tube vertical boiler cost correlation from\n",
        "        # \"Product process and design\". Warren et. al. (2016) Table 22.32, pg 592\n",
        "        purchase_cost = N*bst.CE*3.086*A**0.55\n",
        "\n",
        "        # Itemized purchase costs are stored here\n",
        "        self.purchase_costs['Pyrolyzer'] = purchase_cost\n",
        "\n",
        "class Cyclone(bst.Unit):\n",
        "    _N_ins = 1\n",
        "    _N_outs = 2\n",
        "    _N_heat_utilities = 0\n",
        "    _BM = {'Heaters':1}\n",
        "    _units = {'Area', 'm^2'}\n",
        "    \n",
        "    def __init__(self, ID='', ins=None, outs=(), efficiency=0.99, *args, **kwargs):\n",
        "        bst.Unit.__init__(self, ID, ins, outs, bst.settings.get_thermo())\n",
        "        self._multistream = bst.MultiStream(None, thermo=self.thermo, phases=['g', 'l', 's'])\n",
        "        self.efficiency = efficiency\n",
        "        self.T = self.ins[0].T\n",
        "        self.P = self.ins[0].P\n",
        "        self._BM = {'Heaters':1}\n",
        "        \n",
        "    def _setup(self):\n",
        "        vap, sol = self.outs\n",
        "        vap.phase = 'g'\n",
        "        sol.phase = 's'\n",
        "        \n",
        "    def _run(self):\n",
        "        feed = self.ins[0]\n",
        "        vap = self.outs[0]\n",
        "        sol = self.outs[1]\n",
        "        \n",
        "        ms = self._multistream\n",
        "        ms.imol['g'] = feed.mol\n",
        "        for k in ms.available_chemicals:\n",
        "            if k.get_phase(T=feed.T, P=feed.P) == 's':\n",
        "                sol.imol[ str(k)] = ms.imol['g', str(k)]*self.efficiency\n",
        "                vap.imol[ str(k)] = ms.imol['g',  str(k)]*(1-self.efficiency)\n",
        "            else:\n",
        "                vap.imol[ str(k)] = ms.imol['g',  str(k)]\n",
        "\n",
        "#         vap.mol[:] = ms.imol['l']\n",
        "#         sol.mol[:] = ms.imol['s']\n",
        "        \n",
        "        vap.T = self.T\n",
        "        vap.P = self.P\n",
        "        \n",
        "        sol.T = self.T\n",
        "        sol.P = self.P\n",
        "        \n",
        "        ms.empty()\n",
        "\n",
        "    def _design(self):\n",
        "\n",
        "        # Design requirements are stored here\n",
        "        self.design_results['Area'] = 0\n",
        "        self.design_results['N'] = 0\n",
        "\n",
        "    def _cost(self):\n",
        "        # Design requirements are stored here\n",
        "        self.design_results['Area'] = 0\n",
        "        self.design_results['N'] = 0\n",
        "\n",
        "        # Itemized purchase costs are stored here\n",
        "        self.purchase_costs['Cyclone'] = 0\n"
      ],
      "execution_count": 37,
      "outputs": []
    },
    {
      "cell_type": "markdown",
      "metadata": {
        "id": "xq3yJkiEBdKs"
      },
      "source": [
        "# Key Assumptions\n",
        "## Plastic Composition"
      ]
    },
    {
      "cell_type": "code",
      "metadata": {
        "id": "l8gQWa7SBYCt"
      },
      "source": [
        "x_PET = 0.3 #@param {type: \"number\"}\n",
        "x_PE = 0.3 #@param {type: \"number\"}\n",
        "x_PP = 0.3 #@param {type: \"number\"}\n",
        "x_Al = 1 - x_PET - x_PE - x_PP\n",
        "\n",
        "plastic_composition = dict(PET = x_PET, \n",
        "                          PE = x_PE, \n",
        "                          PP = x_PP, \n",
        "                          Al = x_Al)"
      ],
      "execution_count": 38,
      "outputs": []
    },
    {
      "cell_type": "markdown",
      "metadata": {
        "id": "lrAZgAUOB99I"
      },
      "source": [
        "## Pyrolysis Yields\n"
      ]
    },
    {
      "cell_type": "code",
      "metadata": {
        "id": "FFxRRICfCL-9"
      },
      "source": [
        "# ToDo: Model pyrolysis yields as a function of plastic composition, operating\n",
        "# conditions, and catalyst\n",
        "pyrolysis_yields = dict(CO2 = 0.10,\n",
        "                        Benzene=0.51,\n",
        "                        Heptane=0.13,\n",
        "                        Heptene=0.16,\n",
        "                        Water=0.05,\n",
        "                        PET=0.02,\n",
        "                        PE=0.02,\n",
        "                        PP=0.01)\n",
        "\n"
      ],
      "execution_count": 39,
      "outputs": []
    },
    {
      "cell_type": "code",
      "metadata": {
        "collapsed": true,
        "execution": {
          "iopub.execute_input": "2020-12-29T21:39:35.903Z",
          "iopub.status.busy": "2020-12-29T21:39:35.895Z",
          "iopub.status.idle": "2020-12-29T21:39:35.919Z",
          "shell.execute_reply": "2020-12-29T21:39:35.938Z"
        },
        "jupyter": {
          "outputs_hidden": false,
          "source_hidden": false
        },
        "nteract": {
          "transient": {
            "deleting": false
          }
        },
        "id": "wcO8aNf_2wC5"
      },
      "source": [
        "def define_chemical_phase(chemical, phase, **constants):\n",
        "    c = bst.Chemical(chemical)\n",
        "    c.at_state(phase=phase)\n",
        "    return c"
      ],
      "execution_count": 40,
      "outputs": []
    },
    {
      "cell_type": "code",
      "metadata": {
        "execution": {
          "iopub.execute_input": "2020-12-29T21:39:43.377Z",
          "iopub.status.busy": "2020-12-29T21:39:43.371Z",
          "iopub.status.idle": "2020-12-29T21:39:43.389Z",
          "shell.execute_reply": "2020-12-29T21:39:43.417Z"
        },
        "id": "gmuko9sj2wC5"
      },
      "source": [
        "# %% Define common chemicals\n",
        "# PET = \"PubChem=8441\"\n",
        "# PP = \"PubChem=76958\"\n",
        "# PE = \"CAS=9002-88-4\"\n",
        "# Carbon = \"PubChem=5462310\"\n",
        "# Aluminum = \"PubChem=5359268\"\n",
        "# Heptene = \"PubChem=11610\"\n",
        "customChemicals = {\n",
        "    \"PET\":\"C10H10O4\",\n",
        "    \"PP\" : \"C22H42O3\",\n",
        "    \"PE\" : \"C2H4\",\n",
        "    \"Carbon\" : \"C\",\n",
        "    \"Al\" : \"Al\"\n",
        "}\n",
        "\n",
        "# Gases\n",
        "(CH4, CO2, O2) = [ define_chemical_phase(c, 'g')\n",
        "    for c in [\"CH4\", 'CO2',  'O2']]\n",
        "\n",
        "# Fluids\n",
        "(Heptane, Benzene, Heptene, H2O) = [ c\n",
        "    for c in bst.Chemicals(['Heptane', 'Benzene', \"C7H14\", \"Water\"])]\n",
        "\n",
        "# Solids\n",
        "(PET, PP, PE, Char, Al) = [define_chemical_phase(c, 's') \n",
        "    for c in customChemicals.values()]\n",
        "\n",
        "# Use the PE model for the PP saturation pressure model\n",
        "[PP.Psat.add_model(p) for p in PE.Psat] \n",
        "\n",
        "chemicals = bst.Chemicals([CH4, H2O, CO2, O2, PET, PP, PE, Char, Al, Benzene, Heptane, Heptene], cache=True)\n",
        "for chemical in chemicals:\n",
        "    chemical.default()\n",
        "\n",
        "chemicals.compile()\n",
        "for (k,v) in customChemicals.items():\n",
        "    chemicals.set_synonym(v, k)\n",
        "\n",
        "chemicals.set_synonym(\"C7H14\", \"Heptene\")\n",
        "bst.settings.set_thermo(chemicals, cache=True)"
      ],
      "execution_count": 41,
      "outputs": []
    },
    {
      "cell_type": "code",
      "metadata": {
        "collapsed": true,
        "execution": {
          "iopub.execute_input": "2020-12-29T21:39:45.627Z",
          "iopub.status.busy": "2020-12-29T21:39:45.619Z",
          "iopub.status.idle": "2020-12-29T21:39:45.641Z",
          "shell.execute_reply": "2020-12-29T21:39:45.649Z"
        },
        "jupyter": {
          "outputs_hidden": false,
          "source_hidden": false
        },
        "nteract": {
          "transient": {
            "deleting": false
          }
        },
        "id": "ClGrMCpl2wC5"
      },
      "source": [
        "bst.CE = 567 # 2013\n",
        "bst.PowerUtility.price = 0.065\n",
        "HeatUtility = bst.HeatUtility\n",
        "# Steam is produced on-site by a boiler,\n",
        "# so make it the only available heating agent.\n",
        "steam_utility = HeatUtility.get_agent('high_pressure_steam')\n",
        "HeatUtility.heating_agents = [steam_utility]\n",
        "steam_utility.heat_transfer_efficiency = 0.85\n",
        "steam_utility.regeneration_price = 0.30626\n",
        "steam_utility.T = 529.2\n",
        "steam_utility.P = 44e5\n",
        "\n",
        "# Cooling water and chilled water are regenerated by\n",
        "# on-site facilities. The regeneration and heat transfer\n",
        "# prices are given accounted for by the capital cost and\n",
        "# electricity consumption of these facilities\n",
        "HeatUtility.get_agent('cooling_water').regeneration_price = 0\n",
        "HeatUtility.get_agent('chilled_water').heat_transfer_price = 0\n",
        "\n",
        "# Raw material price (USD/kg)\n",
        "price = {'Plastic': -55.36/1000,\n",
        "         'Water': 0, # 0.000353,\n",
        "         'Polymer': 0, # Not significant\n",
        "         'Steam': 0, # 0.017,\n",
        "         'Metals': 330/1000,\n",
        "         'Aromatics': 665/1000,\n",
        "         'Olefins': 600/1000,\n",
        "         'Solids': 20/1000} # "
      ],
      "execution_count": 42,
      "outputs": []
    },
    {
      "cell_type": "code",
      "metadata": {
        "execution": {
          "iopub.execute_input": "2020-12-29T21:49:06.290Z",
          "iopub.status.busy": "2020-12-29T21:49:06.280Z",
          "iopub.status.idle": "2020-12-29T21:49:06.683Z",
          "shell.execute_reply": "2020-12-29T21:49:06.712Z"
        },
        "colab": {
          "base_uri": "https://localhost:8080/",
          "height": 191
        },
        "id": "FD9Iht3H2wC6",
        "outputId": "738e5107-c386-4f0e-c532-7774ea00dd44"
      },
      "source": [
        "bst.main_flowsheet.set_flowsheet('pretreatment')\n",
        "\n",
        "z_mass_plastic = chemicals.kwarray(\n",
        "    plastic_composition\n",
        ")\n",
        "\n",
        "plastic = bst.Stream('Plastic',\n",
        "                       flow=250000 * z_mass_plastic,\n",
        "                       units='kg/day',\n",
        "                       price=price['Plastic'])\n",
        "\n",
        "u101 = units.ConveyingBelt('U101', ins=plastic)\n",
        "# Separatate metals\n",
        "u102 = units.MagneticSeparator('U102', ins=u101-0)\n",
        "# Shredder\n",
        "u103 = units.Shredder('U103', ins=u102-0)\n",
        "\n",
        "# u201 = units.CrushingMill('U201', split=dict(PET=0.9, PE=0.9, PP=0.9, Al=0.1), moisture_content=0)\n",
        "\n",
        "# Screen out fibers\n",
        "s201 = units.VibratingScreen('S201', ins=u103-0,\n",
        "                             split=dict(PET=0.01, PE=0.01, PP=0.01, Al=0.99), outs=('', ''))\n",
        "\n",
        "waste = bst.Stream('Metals', price=price[\"Metals\"])\n",
        "u202 = units.ConveyingBelt('U202', ins=s201-0, outs=waste)\n",
        "\n",
        "# Store juice before treatment\n",
        "t202 = units.StorageTank('T202', tau=4, vessel_material='Carbon steel', ins=s201-1)\n",
        "\n",
        "\n",
        "# plastic-u101-u103-S201-0-T202\n",
        "# S201-1-u202\n",
        "\n",
        "pretreatment_sys = bst.main_flowsheet.create_system('pretreatment')\n",
        "pretreatment_sys.diagram('thorough')\n",
        "pretreatment_sys.show()"
      ],
      "execution_count": 43,
      "outputs": [
        {
          "output_type": "display_data",
          "data": {
            "image/png": "[encoded data removed]",
            "text/plain": [
              "<IPython.core.display.Image object>"
            ]
          },
          "metadata": {
            "tags": []
          }
        },
        {
          "output_type": "stream",
          "text": [
            "System: pretreatment\n",
            " path: (U101, U102, U103, S201, T202, U202)\n"
          ],
          "name": "stdout"
        }
      ]
    },
    {
      "cell_type": "code",
      "metadata": {
        "execution": {
          "iopub.execute_input": "2020-12-02T23:43:28.851Z",
          "iopub.status.busy": "2020-12-02T23:43:28.844Z",
          "iopub.status.idle": "2020-12-02T23:43:28.867Z",
          "shell.execute_reply": "2020-12-02T23:43:28.989Z"
        },
        "colab": {
          "base_uri": "https://localhost:8080/",
          "height": 68
        },
        "id": "akyPJhZ-2wC7",
        "outputId": "532d378e-4ac6-4778-a209-c24e16163b17"
      },
      "source": [
        "bst.main_flowsheet.set_flowsheet('conversion')\n",
        "\n",
        "c101 = PlasticTOD('C101', ins=t202-0, yields=chemicals.kwarray(\n",
        "    pyrolysis_yields\n",
        "    ))\n",
        "\n",
        "\n",
        "c102 = Cyclone('C102', ins=c101-0, outs=('', 'SolidWaste'), efficiency=0.99)\n",
        "\n",
        "conversion_sys = bst.main_flowsheet.create_system('conversion')\n",
        "conversion_sys.diagram()\n",
        "conversion_sys.show()"
      ],
      "execution_count": 44,
      "outputs": [
        {
          "output_type": "display_data",
          "data": {
            "image/png": "[encoded data removed]",
            "text/plain": [
              "<IPython.core.display.Image object>"
            ]
          },
          "metadata": {
            "tags": []
          }
        },
        {
          "output_type": "stream",
          "text": [
            "System: conversion\n",
            " path: ()\n"
          ],
          "name": "stdout"
        }
      ]
    },
    {
      "cell_type": "code",
      "metadata": {
        "execution": {
          "iopub.execute_input": "2020-12-02T23:43:28.914Z",
          "iopub.status.busy": "2020-12-02T23:43:28.907Z",
          "iopub.status.idle": "2020-12-02T23:43:28.927Z",
          "shell.execute_reply": "2020-12-02T23:43:28.997Z"
        },
        "colab": {
          "base_uri": "https://localhost:8080/",
          "height": 68
        },
        "id": "4cgGXgHq2wC-",
        "outputId": "fa6c13bb-075c-43b2-eb11-e56838f23e40"
      },
      "source": [
        "bst.main_flowsheet.set_flowsheet('recovery')\n",
        "\n",
        "# bst.settings.set_thermo((c102-0).chemicals)\n",
        "\n",
        "r101 = units.HXutility('r101', ins=c102-0, outs=(), T=120+273.15, rigorous=False)\n",
        "\n",
        "olefins = bst.Stream('Olefins', price=price[\"Olefins\"])\n",
        "r102 = units.Flash('r102', ins=r101-0, outs=('', olefins), T=120+273.15, P = 101325)\n",
        "r103 = units.Flash('r103', ins=r102-0, outs=('ncg', ''), T=30+273.15, P = 101325)\n",
        "\n",
        "aromatics = bst.Stream('Aromatics', price=price[\"Aromatics\"])\n",
        "r104 = units.LLEUnit('r104', ins=r103-1, outs=(aromatics, 'Wastewater'))\n",
        "\n",
        "recovery_sys = bst.main_flowsheet.create_system('recovery')\n",
        "recovery_sys.diagram()\n",
        "recovery_sys.show()\n"
      ],
      "execution_count": 45,
      "outputs": [
        {
          "output_type": "display_data",
          "data": {
            "image/png": "[encoded data removed]",
            "text/plain": [
              "<IPython.core.display.Image object>"
            ]
          },
          "metadata": {
            "tags": []
          }
        },
        {
          "output_type": "stream",
          "text": [
            "System: recovery\n",
            " path: ()\n"
          ],
          "name": "stdout"
        }
      ]
    },
    {
      "cell_type": "code",
      "metadata": {
        "colab": {
          "base_uri": "https://localhost:8080/",
          "height": 452
        },
        "id": "C5psdIM02wC-",
        "outputId": "a764782f-0e1f-4751-8da2-e23ade0573fb"
      },
      "source": [
        "facility_flowsheet = bst.main_flowsheet.from_flowsheets('facility_flowsheet', \n",
        "    ['pretreatment', 'conversion', 'recovery']\n",
        ")\n",
        "\n",
        "facility_sys = facility_flowsheet.create_system('facility_sys')  \n",
        "facility_sys.simulate() \n",
        "facility_sys.diagram('thorough')  \n",
        "facility_sys.show() "
      ],
      "execution_count": 46,
      "outputs": [
        {
          "output_type": "stream",
          "text": [
            "4144631.923928854 8176.699 0.0\n"
          ],
          "name": "stdout"
        },
        {
          "output_type": "stream",
          "text": [
            "/usr/local/lib/python3.6/dist-packages/biosteam/units/design_tools/pressure_vessel.py:79: CostWarning: \u001b[38;2;229;63;229m<Flash: r102>\u001b[0m Vertical vessel weight (1608 lb) is out of bounds (4200 to 1e+06 lb).\n",
            "  return method(pressure, diameter, length)\n",
            "/usr/local/lib/python3.6/dist-packages/biosteam/units/design_tools/pressure_vessel.py:79: CostWarning: \u001b[38;2;229;63;229m<Flash: r102>\u001b[0m Vertical vessel length (6.5 ft) is out of bounds (12 to 40 ft).\n",
            "  return method(pressure, diameter, length)\n",
            "sys:1: DesignWarning: \u001b[38;2;229;63;229m<ConveyingBelt: U202>\u001b[0m Flow rate (37.84 kg/hr) is out of bounds (minimum 3 kg/hr).\n",
            "/usr/local/lib/python3.6/dist-packages/biosteam/units/design_tools/pressure_vessel.py:79: CostWarning: \u001b[38;2;229;63;229m<Flash: r103>\u001b[0m Vertical vessel weight (3671 lb) is out of bounds (4200 to 1e+06 lb).\n",
            "  return method(pressure, diameter, length)\n",
            "/usr/local/lib/python3.6/dist-packages/biosteam/units/design_tools/pressure_vessel.py:79: CostWarning: \u001b[38;2;229;63;229m<Flash: r103>\u001b[0m Vertical vessel length (75.5 ft) is out of bounds (12 to 40 ft).\n",
            "  return method(pressure, diameter, length)\n"
          ],
          "name": "stderr"
        },
        {
          "output_type": "display_data",
          "data": {
            "image/png": "[encoded data removed]",
            "text/plain": [
              "<IPython.core.display.Image object>"
            ]
          },
          "metadata": {
            "tags": []
          }
        },
        {
          "output_type": "stream",
          "text": [
            "System: facility_sys\n",
            " path: (U101, U102, U103, S201, T202, C101,\n",
            "        C102, r101, r102, r103, r104, U202)\n"
          ],
          "name": "stdout"
        }
      ]
    },
    {
      "cell_type": "code",
      "metadata": {
        "execution": {
          "iopub.execute_input": "2020-12-02T23:43:29.274Z",
          "iopub.status.busy": "2020-12-02T23:43:29.265Z",
          "iopub.status.idle": "2020-12-02T23:43:29.291Z",
          "shell.execute_reply": "2020-12-02T23:43:29.555Z"
        },
        "colab": {
          "base_uri": "https://localhost:8080/"
        },
        "id": "45SyyonR2wC_",
        "outputId": "e9289315-5b05-402f-fb5f-f928af70d197"
      },
      "source": [
        "class PyrolysisTEA(bst.TEA):\n",
        "    \"\"\"\n",
        "    Create a TEA object for techno-economic analysis of a biorefinery.\n",
        "    \"\"\"\n",
        "\n",
        "    __slots__ = ('labor_cost', 'fringe_benefits', 'maintenance',\n",
        "                 'property_tax', 'property_insurance', '_FCI_cached',\n",
        "                 'supplies', 'maintanance', 'administration')\n",
        "\n",
        "    def __init__(self, system, IRR, duration, depreciation, income_tax,\n",
        "                 operating_days, lang_factor, construction_schedule, WC_over_FCI,\n",
        "                 labor_cost, fringe_benefits, property_tax,\n",
        "                 property_insurance, supplies, maintenance, administration):\n",
        "        super().__init__(system, IRR, duration, depreciation, income_tax,\n",
        "                         operating_days, lang_factor, construction_schedule,\n",
        "                         startup_months=0, startup_FOCfrac=0, startup_VOCfrac=0,\n",
        "                         startup_salesfrac=0, finance_interest=0, finance_years=0,\n",
        "                         finance_fraction=0, WC_over_FCI=WC_over_FCI)\n",
        "        self.labor_cost = labor_cost\n",
        "        self.fringe_benefits = fringe_benefits\n",
        "        self.property_tax = property_tax\n",
        "        self.property_insurance = property_insurance\n",
        "        self.supplies= supplies\n",
        "        self.maintenance = maintenance\n",
        "        self.administration = administration\n",
        "\n",
        "    def _DPI(self, installed_equipment_cost):\n",
        "        return 1.02e8\n",
        "        # return installed_equipment_cost\n",
        "\n",
        "    def _TDC(self, DPI):\n",
        "        return DPI\n",
        "\n",
        "    def _FCI(self, TDC):\n",
        "        self._FCI_cached = TDC\n",
        "        return TDC\n",
        "\n",
        "    def _FOC(self, FCI):\n",
        "        return (FCI*(self.property_tax + self.property_insurance\n",
        "                     + self.maintenance + self.administration)\n",
        "                + self.labor_cost*(1+self.fringe_benefits+self.supplies))\n",
        "\n",
        "pyrolysis_tea = PyrolysisTEA(system=facility_sys,\n",
        "                             IRR=0.10,\n",
        "                             duration=(2018, 2038),\n",
        "                             depreciation='MACRS7',\n",
        "                             income_tax=0.35,\n",
        "                             operating_days=330,\n",
        "                             lang_factor=3.73,\n",
        "                             construction_schedule=(0.08, 0.6, 0.32),\n",
        "                             WC_over_FCI=0.05,\n",
        "                             labor_cost=8.48e6,\n",
        "                             fringe_benefits=0.4,\n",
        "                             property_tax=0.001,\n",
        "                             property_insurance=0.005,\n",
        "                             supplies=0.20,\n",
        "                             maintenance=0.01,\n",
        "                             administration=0.005)\n",
        "\n",
        "# pyrolysis_tea.IRR = pyrolysis_tea.solve_IRR()\n",
        "pyrolysis_tea.show()"
      ],
      "execution_count": 47,
      "outputs": [
        {
          "output_type": "stream",
          "text": [
            "PyrolysisTEA: facility_sys\n",
            " NPV: 80,491,194 USD at 10.0% IRR\n"
          ],
          "name": "stdout"
        }
      ]
    },
    {
      "cell_type": "code",
      "metadata": {
        "execution": {
          "iopub.execute_input": "2020-12-02T23:43:29.309Z",
          "iopub.status.busy": "2020-12-02T23:43:29.302Z",
          "iopub.status.idle": "2020-12-02T23:43:29.360Z",
          "shell.execute_reply": "2020-12-02T23:43:29.563Z"
        },
        "colab": {
          "base_uri": "https://localhost:8080/",
          "height": 808
        },
        "id": "G9fiCxAE2wDB",
        "outputId": "0f55c2ff-c441-4e12-9d41-b47813d91ae3"
      },
      "source": [
        "m = pyrolysis_tea.get_cashflow_table()\n",
        "m"
      ],
      "execution_count": 48,
      "outputs": [
        {
          "output_type": "execute_result",
          "data": {
            "text/html": [
              "<div>\n",
              "<style scoped>\n",
              "    .dataframe tbody tr th:only-of-type {\n",
              "        vertical-align: middle;\n",
              "    }\n",
              "\n",
              "    .dataframe tbody tr th {\n",
              "        vertical-align: top;\n",
              "    }\n",
              "\n",
              "    .dataframe thead th {\n",
              "        text-align: right;\n",
              "    }\n",
              "</style>\n",
              "<table border=\"1\" class=\"dataframe\">\n",
              "  <thead>\n",
              "    <tr style=\"text-align: right;\">\n",
              "      <th></th>\n",
              "      <th>Depreciable capital [MM$]</th>\n",
              "      <th>Fixed capital investment [MM$]</th>\n",
              "      <th>Working capital [MM$]</th>\n",
              "      <th>Depreciation [MM$]</th>\n",
              "      <th>Loan [MM$]</th>\n",
              "      <th>...</th>\n",
              "      <th>Net earnings [MM$]</th>\n",
              "      <th>Cash flow [MM$]</th>\n",
              "      <th>Discount factor</th>\n",
              "      <th>Net present value (NPV) [MM$]</th>\n",
              "      <th>Cumulative NPV [MM$]</th>\n",
              "    </tr>\n",
              "  </thead>\n",
              "  <tbody>\n",
              "    <tr>\n",
              "      <th>2015</th>\n",
              "      <td>8.16</td>\n",
              "      <td>8.16</td>\n",
              "      <td>0</td>\n",
              "      <td>0</td>\n",
              "      <td>0</td>\n",
              "      <td>...</td>\n",
              "      <td>0</td>\n",
              "      <td>-8.16</td>\n",
              "      <td>1.21</td>\n",
              "      <td>-9.87</td>\n",
              "      <td>-9.87</td>\n",
              "    </tr>\n",
              "    <tr>\n",
              "      <th>2016</th>\n",
              "      <td>61.2</td>\n",
              "      <td>61.2</td>\n",
              "      <td>0</td>\n",
              "      <td>0</td>\n",
              "      <td>0</td>\n",
              "      <td>...</td>\n",
              "      <td>0</td>\n",
              "      <td>-61.2</td>\n",
              "      <td>1.1</td>\n",
              "      <td>-67.3</td>\n",
              "      <td>-77.2</td>\n",
              "    </tr>\n",
              "    <tr>\n",
              "      <th>2017</th>\n",
              "      <td>32.6</td>\n",
              "      <td>32.6</td>\n",
              "      <td>5.1</td>\n",
              "      <td>0</td>\n",
              "      <td>0</td>\n",
              "      <td>...</td>\n",
              "      <td>0</td>\n",
              "      <td>-37.7</td>\n",
              "      <td>1</td>\n",
              "      <td>-37.7</td>\n",
              "      <td>-115</td>\n",
              "    </tr>\n",
              "    <tr>\n",
              "      <th>2018</th>\n",
              "      <td>0</td>\n",
              "      <td>0</td>\n",
              "      <td>0</td>\n",
              "      <td>14.6</td>\n",
              "      <td>0</td>\n",
              "      <td>...</td>\n",
              "      <td>10.4</td>\n",
              "      <td>24.9</td>\n",
              "      <td>0.909</td>\n",
              "      <td>22.7</td>\n",
              "      <td>-92.3</td>\n",
              "    </tr>\n",
              "    <tr>\n",
              "      <th>2019</th>\n",
              "      <td>0</td>\n",
              "      <td>0</td>\n",
              "      <td>0</td>\n",
              "      <td>25</td>\n",
              "      <td>0</td>\n",
              "      <td>...</td>\n",
              "      <td>3.6</td>\n",
              "      <td>28.6</td>\n",
              "      <td>0.826</td>\n",
              "      <td>23.6</td>\n",
              "      <td>-68.6</td>\n",
              "    </tr>\n",
              "    <tr>\n",
              "      <th>2020</th>\n",
              "      <td>0</td>\n",
              "      <td>0</td>\n",
              "      <td>0</td>\n",
              "      <td>17.8</td>\n",
              "      <td>0</td>\n",
              "      <td>...</td>\n",
              "      <td>8.24</td>\n",
              "      <td>26.1</td>\n",
              "      <td>0.751</td>\n",
              "      <td>19.6</td>\n",
              "      <td>-49</td>\n",
              "    </tr>\n",
              "    <tr>\n",
              "      <th>2021</th>\n",
              "      <td>0</td>\n",
              "      <td>0</td>\n",
              "      <td>0</td>\n",
              "      <td>12.7</td>\n",
              "      <td>0</td>\n",
              "      <td>...</td>\n",
              "      <td>11.6</td>\n",
              "      <td>24.3</td>\n",
              "      <td>0.683</td>\n",
              "      <td>16.6</td>\n",
              "      <td>-32.4</td>\n",
              "    </tr>\n",
              "    <tr>\n",
              "      <th>2022</th>\n",
              "      <td>0</td>\n",
              "      <td>0</td>\n",
              "      <td>0</td>\n",
              "      <td>9.11</td>\n",
              "      <td>0</td>\n",
              "      <td>...</td>\n",
              "      <td>13.9</td>\n",
              "      <td>23</td>\n",
              "      <td>0.621</td>\n",
              "      <td>14.3</td>\n",
              "      <td>-18.1</td>\n",
              "    </tr>\n",
              "    <tr>\n",
              "      <th>2023</th>\n",
              "      <td>0</td>\n",
              "      <td>0</td>\n",
              "      <td>0</td>\n",
              "      <td>9.1</td>\n",
              "      <td>0</td>\n",
              "      <td>...</td>\n",
              "      <td>13.9</td>\n",
              "      <td>23</td>\n",
              "      <td>0.564</td>\n",
              "      <td>13</td>\n",
              "      <td>-5.15</td>\n",
              "    </tr>\n",
              "    <tr>\n",
              "      <th>2024</th>\n",
              "      <td>0</td>\n",
              "      <td>0</td>\n",
              "      <td>0</td>\n",
              "      <td>9.11</td>\n",
              "      <td>0</td>\n",
              "      <td>...</td>\n",
              "      <td>13.9</td>\n",
              "      <td>23</td>\n",
              "      <td>0.513</td>\n",
              "      <td>11.8</td>\n",
              "      <td>6.67</td>\n",
              "    </tr>\n",
              "    <tr>\n",
              "      <th>2025</th>\n",
              "      <td>0</td>\n",
              "      <td>0</td>\n",
              "      <td>0</td>\n",
              "      <td>4.55</td>\n",
              "      <td>0</td>\n",
              "      <td>...</td>\n",
              "      <td>16.9</td>\n",
              "      <td>21.4</td>\n",
              "      <td>0.467</td>\n",
              "      <td>10</td>\n",
              "      <td>16.7</td>\n",
              "    </tr>\n",
              "    <tr>\n",
              "      <th>2026</th>\n",
              "      <td>0</td>\n",
              "      <td>0</td>\n",
              "      <td>0</td>\n",
              "      <td>0</td>\n",
              "      <td>0</td>\n",
              "      <td>...</td>\n",
              "      <td>19.8</td>\n",
              "      <td>19.8</td>\n",
              "      <td>0.424</td>\n",
              "      <td>8.41</td>\n",
              "      <td>25.1</td>\n",
              "    </tr>\n",
              "    <tr>\n",
              "      <th>2027</th>\n",
              "      <td>0</td>\n",
              "      <td>0</td>\n",
              "      <td>0</td>\n",
              "      <td>0</td>\n",
              "      <td>0</td>\n",
              "      <td>...</td>\n",
              "      <td>19.8</td>\n",
              "      <td>19.8</td>\n",
              "      <td>0.386</td>\n",
              "      <td>7.65</td>\n",
              "      <td>32.7</td>\n",
              "    </tr>\n",
              "    <tr>\n",
              "      <th>2028</th>\n",
              "      <td>0</td>\n",
              "      <td>0</td>\n",
              "      <td>0</td>\n",
              "      <td>0</td>\n",
              "      <td>0</td>\n",
              "      <td>...</td>\n",
              "      <td>19.8</td>\n",
              "      <td>19.8</td>\n",
              "      <td>0.35</td>\n",
              "      <td>6.95</td>\n",
              "      <td>39.7</td>\n",
              "    </tr>\n",
              "    <tr>\n",
              "      <th>2029</th>\n",
              "      <td>0</td>\n",
              "      <td>0</td>\n",
              "      <td>0</td>\n",
              "      <td>0</td>\n",
              "      <td>0</td>\n",
              "      <td>...</td>\n",
              "      <td>19.8</td>\n",
              "      <td>19.8</td>\n",
              "      <td>0.319</td>\n",
              "      <td>6.32</td>\n",
              "      <td>46</td>\n",
              "    </tr>\n",
              "    <tr>\n",
              "      <th>2030</th>\n",
              "      <td>0</td>\n",
              "      <td>0</td>\n",
              "      <td>0</td>\n",
              "      <td>0</td>\n",
              "      <td>0</td>\n",
              "      <td>...</td>\n",
              "      <td>19.8</td>\n",
              "      <td>19.8</td>\n",
              "      <td>0.29</td>\n",
              "      <td>5.75</td>\n",
              "      <td>51.8</td>\n",
              "    </tr>\n",
              "    <tr>\n",
              "      <th>2031</th>\n",
              "      <td>0</td>\n",
              "      <td>0</td>\n",
              "      <td>0</td>\n",
              "      <td>0</td>\n",
              "      <td>0</td>\n",
              "      <td>...</td>\n",
              "      <td>19.8</td>\n",
              "      <td>19.8</td>\n",
              "      <td>0.263</td>\n",
              "      <td>5.22</td>\n",
              "      <td>57</td>\n",
              "    </tr>\n",
              "    <tr>\n",
              "      <th>2032</th>\n",
              "      <td>0</td>\n",
              "      <td>0</td>\n",
              "      <td>0</td>\n",
              "      <td>0</td>\n",
              "      <td>0</td>\n",
              "      <td>...</td>\n",
              "      <td>19.8</td>\n",
              "      <td>19.8</td>\n",
              "      <td>0.239</td>\n",
              "      <td>4.75</td>\n",
              "      <td>61.7</td>\n",
              "    </tr>\n",
              "    <tr>\n",
              "      <th>2033</th>\n",
              "      <td>0</td>\n",
              "      <td>0</td>\n",
              "      <td>0</td>\n",
              "      <td>0</td>\n",
              "      <td>0</td>\n",
              "      <td>...</td>\n",
              "      <td>19.8</td>\n",
              "      <td>19.8</td>\n",
              "      <td>0.218</td>\n",
              "      <td>4.32</td>\n",
              "      <td>66</td>\n",
              "    </tr>\n",
              "    <tr>\n",
              "      <th>2034</th>\n",
              "      <td>0</td>\n",
              "      <td>0</td>\n",
              "      <td>0</td>\n",
              "      <td>0</td>\n",
              "      <td>0</td>\n",
              "      <td>...</td>\n",
              "      <td>19.8</td>\n",
              "      <td>19.8</td>\n",
              "      <td>0.198</td>\n",
              "      <td>3.93</td>\n",
              "      <td>70</td>\n",
              "    </tr>\n",
              "    <tr>\n",
              "      <th>2035</th>\n",
              "      <td>0</td>\n",
              "      <td>0</td>\n",
              "      <td>0</td>\n",
              "      <td>0</td>\n",
              "      <td>0</td>\n",
              "      <td>...</td>\n",
              "      <td>19.8</td>\n",
              "      <td>19.8</td>\n",
              "      <td>0.18</td>\n",
              "      <td>3.57</td>\n",
              "      <td>73.5</td>\n",
              "    </tr>\n",
              "    <tr>\n",
              "      <th>2036</th>\n",
              "      <td>0</td>\n",
              "      <td>0</td>\n",
              "      <td>0</td>\n",
              "      <td>0</td>\n",
              "      <td>0</td>\n",
              "      <td>...</td>\n",
              "      <td>19.8</td>\n",
              "      <td>19.8</td>\n",
              "      <td>0.164</td>\n",
              "      <td>3.24</td>\n",
              "      <td>76.8</td>\n",
              "    </tr>\n",
              "    <tr>\n",
              "      <th>2037</th>\n",
              "      <td>0</td>\n",
              "      <td>0</td>\n",
              "      <td>-5.1</td>\n",
              "      <td>0</td>\n",
              "      <td>0</td>\n",
              "      <td>...</td>\n",
              "      <td>19.8</td>\n",
              "      <td>24.9</td>\n",
              "      <td>0.149</td>\n",
              "      <td>3.71</td>\n",
              "      <td>80.5</td>\n",
              "    </tr>\n",
              "  </tbody>\n",
              "</table>\n",
              "<p>23 rows × 17 columns</p>\n",
              "</div>"
            ],
            "text/plain": [
              "      Depreciable capital [MM$]  Fixed capital investment [MM$]  \\\n",
              "2015                       8.16                            8.16   \n",
              "2016                       61.2                            61.2   \n",
              "2017                       32.6                            32.6   \n",
              "2018                          0                               0   \n",
              "2019                          0                               0   \n",
              "2020                          0                               0   \n",
              "2021                          0                               0   \n",
              "2022                          0                               0   \n",
              "2023                          0                               0   \n",
              "2024                          0                               0   \n",
              "2025                          0                               0   \n",
              "2026                          0                               0   \n",
              "2027                          0                               0   \n",
              "2028                          0                               0   \n",
              "2029                          0                               0   \n",
              "2030                          0                               0   \n",
              "2031                          0                               0   \n",
              "2032                          0                               0   \n",
              "2033                          0                               0   \n",
              "2034                          0                               0   \n",
              "2035                          0                               0   \n",
              "2036                          0                               0   \n",
              "2037                          0                               0   \n",
              "\n",
              "      Working capital [MM$]  Depreciation [MM$]  Loan [MM$]  ...  \\\n",
              "2015                      0                   0           0  ...   \n",
              "2016                      0                   0           0  ...   \n",
              "2017                    5.1                   0           0  ...   \n",
              "2018                      0                14.6           0  ...   \n",
              "2019                      0                  25           0  ...   \n",
              "2020                      0                17.8           0  ...   \n",
              "2021                      0                12.7           0  ...   \n",
              "2022                      0                9.11           0  ...   \n",
              "2023                      0                 9.1           0  ...   \n",
              "2024                      0                9.11           0  ...   \n",
              "2025                      0                4.55           0  ...   \n",
              "2026                      0                   0           0  ...   \n",
              "2027                      0                   0           0  ...   \n",
              "2028                      0                   0           0  ...   \n",
              "2029                      0                   0           0  ...   \n",
              "2030                      0                   0           0  ...   \n",
              "2031                      0                   0           0  ...   \n",
              "2032                      0                   0           0  ...   \n",
              "2033                      0                   0           0  ...   \n",
              "2034                      0                   0           0  ...   \n",
              "2035                      0                   0           0  ...   \n",
              "2036                      0                   0           0  ...   \n",
              "2037                   -5.1                   0           0  ...   \n",
              "\n",
              "      Net earnings [MM$]  Cash flow [MM$]  Discount factor  \\\n",
              "2015                   0            -8.16             1.21   \n",
              "2016                   0            -61.2              1.1   \n",
              "2017                   0            -37.7                1   \n",
              "2018                10.4             24.9            0.909   \n",
              "2019                 3.6             28.6            0.826   \n",
              "2020                8.24             26.1            0.751   \n",
              "2021                11.6             24.3            0.683   \n",
              "2022                13.9               23            0.621   \n",
              "2023                13.9               23            0.564   \n",
              "2024                13.9               23            0.513   \n",
              "2025                16.9             21.4            0.467   \n",
              "2026                19.8             19.8            0.424   \n",
              "2027                19.8             19.8            0.386   \n",
              "2028                19.8             19.8             0.35   \n",
              "2029                19.8             19.8            0.319   \n",
              "2030                19.8             19.8             0.29   \n",
              "2031                19.8             19.8            0.263   \n",
              "2032                19.8             19.8            0.239   \n",
              "2033                19.8             19.8            0.218   \n",
              "2034                19.8             19.8            0.198   \n",
              "2035                19.8             19.8             0.18   \n",
              "2036                19.8             19.8            0.164   \n",
              "2037                19.8             24.9            0.149   \n",
              "\n",
              "      Net present value (NPV) [MM$]  Cumulative NPV [MM$]  \n",
              "2015                          -9.87                 -9.87  \n",
              "2016                          -67.3                 -77.2  \n",
              "2017                          -37.7                  -115  \n",
              "2018                           22.7                 -92.3  \n",
              "2019                           23.6                 -68.6  \n",
              "2020                           19.6                   -49  \n",
              "2021                           16.6                 -32.4  \n",
              "2022                           14.3                 -18.1  \n",
              "2023                             13                 -5.15  \n",
              "2024                           11.8                  6.67  \n",
              "2025                             10                  16.7  \n",
              "2026                           8.41                  25.1  \n",
              "2027                           7.65                  32.7  \n",
              "2028                           6.95                  39.7  \n",
              "2029                           6.32                    46  \n",
              "2030                           5.75                  51.8  \n",
              "2031                           5.22                    57  \n",
              "2032                           4.75                  61.7  \n",
              "2033                           4.32                    66  \n",
              "2034                           3.93                    70  \n",
              "2035                           3.57                  73.5  \n",
              "2036                           3.24                  76.8  \n",
              "2037                           3.71                  80.5  \n",
              "\n",
              "[23 rows x 17 columns]"
            ]
          },
          "metadata": {
            "tags": []
          },
          "execution_count": 48
        }
      ]
    },
    {
      "cell_type": "code",
      "metadata": {
        "colab": {
          "base_uri": "https://localhost:8080/"
        },
        "id": "5fkiLFYCFSpe",
        "outputId": "8aa98db4-d6a2-49e7-e2be-b7b3249d87bf"
      },
      "source": [
        "products = [bst.main_flowsheet(\"Plastic\"), bst.main_flowsheet('Aromatics'), bst.main_flowsheet('Olefins'), bst.main_flowsheet('Metals')]\n",
        "pyrolysis_tea.production_cost(products)"
      ],
      "execution_count": 59,
      "outputs": [
        {
          "output_type": "execute_result",
          "data": {
            "text/plain": [
              "array([-2.036e+06,  1.749e+07,  9.843e+03,  1.311e+06])"
            ]
          },
          "metadata": {
            "tags": []
          },
          "execution_count": 59
        }
      ]
    },
    {
      "cell_type": "code",
      "metadata": {
        "collapsed": true,
        "execution": {
          "iopub.execute_input": "2020-12-02T23:43:29.414Z",
          "iopub.status.busy": "2020-12-02T23:43:29.406Z",
          "iopub.status.idle": "2020-12-02T23:43:29.429Z",
          "shell.execute_reply": "2020-12-02T23:43:29.571Z"
        },
        "jupyter": {
          "outputs_hidden": false,
          "source_hidden": false
        },
        "nteract": {
          "transient": {
            "deleting": false
          }
        },
        "id": "I6VJJ2Du2wDE"
      },
      "source": [
        "# with pd.ExcelWriter('cuwp.xlsx') as writer:\n",
        "#     m.to_excel(writer)"
      ],
      "execution_count": 53,
      "outputs": []
    },
    {
      "cell_type": "code",
      "metadata": {
        "id": "VmX-qwzNWQQo"
      },
      "source": [
        ""
      ],
      "execution_count": 58,
      "outputs": []
    }
  ]
}